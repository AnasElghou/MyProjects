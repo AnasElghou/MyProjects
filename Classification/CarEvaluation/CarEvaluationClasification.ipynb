{
 "cells": [
  {
   "cell_type": "markdown",
   "metadata": {
    "id": "iQOV1eKEvjGA"
   },
   "source": [
    "#Downloading libraries we need"
   ]
  },
  {
   "cell_type": "code",
   "execution_count": 4,
   "metadata": {
    "executionInfo": {
     "elapsed": 241,
     "status": "ok",
     "timestamp": 1735951689241,
     "user": {
      "displayName": "Anas Elghou",
      "userId": "03015361560750602843"
     },
     "user_tz": -60
    },
    "id": "pkMNXOMyZZH2"
   },
   "outputs": [],
   "source": [
    "import pandas as pd\n",
    "import pickle\n",
    "import matplotlib.pyplot as plt\n",
    "from sklearn.model_selection import train_test_split\n",
    "from sklearn.metrics import accuracy_score , recall_score , precision_score , f1_score , confusion_matrix\n"
   ]
  },
  {
   "cell_type": "markdown",
   "metadata": {
    "id": "4jvUGeECv3jK"
   },
   "source": [
    "#Naming columns and taking a look on the head of Dataset\n",
    "\n"
   ]
  },
  {
   "cell_type": "code",
   "execution_count": 5,
   "metadata": {
    "colab": {
     "base_uri": "https://localhost:8080/",
     "height": 206
    },
    "executionInfo": {
     "elapsed": 251,
     "status": "ok",
     "timestamp": 1735951692222,
     "user": {
      "displayName": "Anas Elghou",
      "userId": "03015361560750602843"
     },
     "user_tz": -60
    },
    "id": "-RruZEhkZnXY",
    "outputId": "0c5118ee-6351-4abc-9b32-44a53ab7f727"
   },
   "outputs": [
    {
     "data": {
      "text/html": [
       "<div>\n",
       "<style scoped>\n",
       "    .dataframe tbody tr th:only-of-type {\n",
       "        vertical-align: middle;\n",
       "    }\n",
       "\n",
       "    .dataframe tbody tr th {\n",
       "        vertical-align: top;\n",
       "    }\n",
       "\n",
       "    .dataframe thead th {\n",
       "        text-align: right;\n",
       "    }\n",
       "</style>\n",
       "<table border=\"1\" class=\"dataframe\">\n",
       "  <thead>\n",
       "    <tr style=\"text-align: right;\">\n",
       "      <th></th>\n",
       "      <th>buying</th>\n",
       "      <th>maint</th>\n",
       "      <th>doors</th>\n",
       "      <th>persons</th>\n",
       "      <th>lug_boot</th>\n",
       "      <th>safety</th>\n",
       "      <th>class</th>\n",
       "    </tr>\n",
       "  </thead>\n",
       "  <tbody>\n",
       "    <tr>\n",
       "      <th>0</th>\n",
       "      <td>vhigh</td>\n",
       "      <td>vhigh</td>\n",
       "      <td>2</td>\n",
       "      <td>2</td>\n",
       "      <td>small</td>\n",
       "      <td>med</td>\n",
       "      <td>unacc</td>\n",
       "    </tr>\n",
       "    <tr>\n",
       "      <th>1</th>\n",
       "      <td>vhigh</td>\n",
       "      <td>vhigh</td>\n",
       "      <td>2</td>\n",
       "      <td>2</td>\n",
       "      <td>small</td>\n",
       "      <td>high</td>\n",
       "      <td>unacc</td>\n",
       "    </tr>\n",
       "    <tr>\n",
       "      <th>2</th>\n",
       "      <td>vhigh</td>\n",
       "      <td>vhigh</td>\n",
       "      <td>2</td>\n",
       "      <td>2</td>\n",
       "      <td>med</td>\n",
       "      <td>low</td>\n",
       "      <td>unacc</td>\n",
       "    </tr>\n",
       "    <tr>\n",
       "      <th>3</th>\n",
       "      <td>vhigh</td>\n",
       "      <td>vhigh</td>\n",
       "      <td>2</td>\n",
       "      <td>2</td>\n",
       "      <td>med</td>\n",
       "      <td>med</td>\n",
       "      <td>unacc</td>\n",
       "    </tr>\n",
       "    <tr>\n",
       "      <th>4</th>\n",
       "      <td>vhigh</td>\n",
       "      <td>vhigh</td>\n",
       "      <td>2</td>\n",
       "      <td>2</td>\n",
       "      <td>med</td>\n",
       "      <td>high</td>\n",
       "      <td>unacc</td>\n",
       "    </tr>\n",
       "  </tbody>\n",
       "</table>\n",
       "</div>"
      ],
      "text/plain": [
       "  buying  maint doors persons lug_boot safety  class\n",
       "0  vhigh  vhigh     2       2    small    med  unacc\n",
       "1  vhigh  vhigh     2       2    small   high  unacc\n",
       "2  vhigh  vhigh     2       2      med    low  unacc\n",
       "3  vhigh  vhigh     2       2      med    med  unacc\n",
       "4  vhigh  vhigh     2       2      med   high  unacc"
      ]
     },
     "execution_count": 5,
     "metadata": {},
     "output_type": "execute_result"
    }
   ],
   "source": [
    "data = pd.read_csv('car.data')\n",
    "data.columns = ['buying', 'maint', 'doors', 'persons', 'lug_boot', 'safety', 'class']\n",
    "\n",
    "data.head()\n"
   ]
  },
  {
   "cell_type": "markdown",
   "metadata": {
    "id": "XHYqMYUFwSAU"
   },
   "source": [
    "#Visualazing features with target looking for pattrens"
   ]
  },
  {
   "cell_type": "markdown",
   "metadata": {
    "id": "LQqiODchwpe9"
   },
   "source": [
    "#Computer deal with numbers better than strings"
   ]
  },
  {
   "cell_type": "code",
   "execution_count": 6,
   "metadata": {
    "executionInfo": {
     "elapsed": 232,
     "status": "ok",
     "timestamp": 1735951696644,
     "user": {
      "displayName": "Anas Elghou",
      "userId": "03015361560750602843"
     },
     "user_tz": -60
    },
    "id": "-pV1iNDzgXxZ"
   },
   "outputs": [],
   "source": [
    "data['buying'] = data['buying'].map({'low': 0, 'med': 1, 'high': 2, 'vhigh': 3})\n",
    "data['maint'] = data['maint'].map({'low': 0, 'med': 1, 'high': 2, 'vhigh': 3})\n",
    "data['doors'] = data['doors'].map({'2': 0, '3': 1, '4': 2, '5more': 3})\n",
    "data['persons'] = data['persons'].map({'2': 0, '4': 1, 'more': 2})\n",
    "data['lug_boot'] = data['lug_boot'].map({'small': 0, 'med': 1, 'big': 2})\n",
    "data['safety'] = data['safety'].map({'low': 0, 'med': 1, 'high': 2})\n",
    "data['class'] = data['class'].map({'unacc': 0, 'acc': 1, 'good': 2, 'vgood': 3})"
   ]
  },
  {
   "cell_type": "code",
   "execution_count": 7,
   "metadata": {
    "colab": {
     "base_uri": "https://localhost:8080/"
    },
    "executionInfo": {
     "elapsed": 3,
     "status": "ok",
     "timestamp": 1735951697495,
     "user": {
      "displayName": "Anas Elghou",
      "userId": "03015361560750602843"
     },
     "user_tz": -60
    },
    "id": "ELyb-TF_aBEY",
    "outputId": "6ffbb433-7691-4c5b-ee28-e52675908fa8"
   },
   "outputs": [
    {
     "name": "stdout",
     "output_type": "stream",
     "text": [
      "<class 'pandas.core.frame.DataFrame'>\n",
      "RangeIndex: 1727 entries, 0 to 1726\n",
      "Data columns (total 7 columns):\n",
      " #   Column    Non-Null Count  Dtype\n",
      "---  ------    --------------  -----\n",
      " 0   buying    1727 non-null   int64\n",
      " 1   maint     1727 non-null   int64\n",
      " 2   doors     1727 non-null   int64\n",
      " 3   persons   1727 non-null   int64\n",
      " 4   lug_boot  1727 non-null   int64\n",
      " 5   safety    1727 non-null   int64\n",
      " 6   class     1727 non-null   int64\n",
      "dtypes: int64(7)\n",
      "memory usage: 94.6 KB\n"
     ]
    }
   ],
   "source": [
    "data.info()"
   ]
  },
  {
   "cell_type": "code",
   "execution_count": 8,
   "metadata": {},
   "outputs": [],
   "source": [
    "X = data.drop('class', axis=1)\n",
    "y = data['class']\n",
    "X_train, X_test, y_train, y_test = train_test_split(X, y, test_size=0.2)"
   ]
  },
  {
   "cell_type": "markdown",
   "metadata": {},
   "source": [
    "Using the SVC with the rbf kernel and the default parameters."
   ]
  },
  {
   "cell_type": "code",
   "execution_count": 9,
   "metadata": {
    "colab": {
     "base_uri": "https://localhost:8080/"
    },
    "executionInfo": {
     "elapsed": 230,
     "status": "ok",
     "timestamp": 1735951699557,
     "user": {
      "displayName": "Anas Elghou",
      "userId": "03015361560750602843"
     },
     "user_tz": -60
    },
    "id": "w2IkGe8tuxyp",
    "outputId": "a902c5e1-e5ec-41a3-c520-79033d23445d"
   },
   "outputs": [
    {
     "name": "stdout",
     "output_type": "stream",
     "text": [
      "acc : 0.95 , recall : 0.95 , precision : 0.96 , f1 : 0.95\n",
      "[[235   7   0   0]\n",
      " [  2  72   1   0]\n",
      " [  0   4  12   2]\n",
      " [  0   0   0  11]]\n"
     ]
    }
   ],
   "source": [
    "from sklearn.svm import SVC\n",
    "\n",
    "clf = SVC(kernel='rbf')\n",
    "clf.fit(X_train, y_train)\n",
    "y_pred = clf.predict(X_test)\n",
    "acc = round(accuracy_score(y_test, y_pred) , 2)\n",
    "recall = round(recall_score(y_test, y_pred, average='weighted') , 2)\n",
    "precision = round(precision_score(y_test, y_pred, average='weighted') , 2)\n",
    "f1 = round(f1_score(y_test, y_pred, average='weighted') , 2)\n",
    "print(f'acc : {acc} , recall : {recall} , precision : {precision} , f1 : {f1}')\n",
    "cm = confusion_matrix(y_test, y_pred)\n",
    "print(cm)\n"
   ]
  },
  {
   "cell_type": "code",
   "execution_count": 10,
   "metadata": {
    "colab": {
     "base_uri": "https://localhost:8080/"
    },
    "executionInfo": {
     "elapsed": 460,
     "status": "ok",
     "timestamp": 1735951704757,
     "user": {
      "displayName": "Anas Elghou",
      "userId": "03015361560750602843"
     },
     "user_tz": -60
    },
    "id": "2R-Ql1YKt5ap",
    "outputId": "8b5208de-6bf2-48bf-d9db-cdf5fc6a42ad"
   },
   "outputs": [
    {
     "name": "stdout",
     "output_type": "stream",
     "text": [
      "acc : 0.98 , recall : 0.98 , precision : 0.98 , f1 : 0.98\n",
      "[[240   2   0   0]\n",
      " [  0  73   2   0]\n",
      " [  0   2  14   2]\n",
      " [  0   0   0  11]]\n"
     ]
    }
   ],
   "source": [
    "from sklearn.ensemble import RandomForestClassifier\n",
    "# Using Random Forest Classifier\n",
    "clf = RandomForestClassifier(n_estimators=100, random_state=42)\n",
    "clf.fit(X_train, y_train)\n",
    "y_pred = clf.predict(X_test)\n",
    "acc = round(accuracy_score(y_test, y_pred) , 2)\n",
    "recall = round(recall_score(y_test, y_pred, average='weighted') , 2)\n",
    "precision = round(precision_score(y_test, y_pred, average='weighted') , 2)\n",
    "f1 = round(f1_score(y_test, y_pred, average='weighted') , 2)\n",
    "print(f'acc : {acc} , recall : {recall} , precision : {precision} , f1 : {f1}')\n",
    "cm = confusion_matrix(y_test, y_pred)\n",
    "print(cm)\n",
    "\n"
   ]
  },
  {
   "cell_type": "code",
   "execution_count": 14,
   "metadata": {},
   "outputs": [
    {
     "name": "stdout",
     "output_type": "stream",
     "text": [
      "acc : 0.97 , recall : 0.97 , precision : 0.96 , f1 : 0.96\n",
      "[[239   3   0   0]\n",
      " [  2  70   2   1]\n",
      " [  1   2  15   0]\n",
      " [  0   0   0  11]]\n"
     ]
    }
   ],
   "source": [
    "from sklearn.tree import DecisionTreeClassifier\n",
    "# Using Decision Tree Classifier\n",
    "tree = DecisionTreeClassifier(random_state=42)   \n",
    "tree.fit(X_train, y_train)\n",
    "y_pred = tree.predict(X_test)\n",
    "acc = round(accuracy_score(y_test, y_pred) , 2)\n",
    "recall = round(recall_score(y_test, y_pred, average='weighted') , 2)\n",
    "print(f'acc : {acc} , recall : {recall} , precision : {precision} , f1 : {f1}')\n",
    "cm = confusion_matrix(y_test, y_pred)\n",
    "print(cm)\n"
   ]
  },
  {
   "cell_type": "code",
   "execution_count": 15,
   "metadata": {},
   "outputs": [
    {
     "name": "stdout",
     "output_type": "stream",
     "text": [
      "acc : 0.96 , recall : 0.96 , precision : 0.96 , f1 : 0.96\n",
      "[[241   1   0   0]\n",
      " [  6  69   0   0]\n",
      " [  0   5  12   1]\n",
      " [  0   1   0  10]]\n"
     ]
    }
   ],
   "source": [
    "from sklearn.neighbors import KNeighborsClassifier\n",
    "# Using K-Nearest Neighbors Classifier\n",
    "knn = KNeighborsClassifier(n_neighbors=5)\n",
    "knn.fit(X_train, y_train)\n",
    "y_pred = knn.predict(X_test)\n",
    "acc = round(accuracy_score(y_test, y_pred) , 2)\n",
    "recall = round(recall_score(y_test, y_pred, average='weighted') , 2)\n",
    "precision = round(precision_score(y_test, y_pred, average='weighted') , 2)\n",
    "f1 = round(f1_score(y_test, y_pred, average='weighted') , 2)\n",
    "print(f'acc : {acc} , recall : {recall} , precision : {precision} , f1 : {f1}')\n",
    "\n",
    "cm = confusion_matrix(y_test, y_pred)\n",
    "print(cm)"
   ]
  },
  {
   "cell_type": "code",
   "execution_count": 18,
   "metadata": {},
   "outputs": [
    {
     "name": "stdout",
     "output_type": "stream",
     "text": [
      "Epoch 1/10\n"
     ]
    },
    {
     "name": "stderr",
     "output_type": "stream",
     "text": [
      "c:\\Users\\elgho\\anaconda3\\Lib\\site-packages\\keras\\src\\layers\\core\\dense.py:87: UserWarning: Do not pass an `input_shape`/`input_dim` argument to a layer. When using Sequential models, prefer using an `Input(shape)` object as the first layer in the model instead.\n",
      "  super().__init__(activity_regularizer=activity_regularizer, **kwargs)\n"
     ]
    },
    {
     "name": "stdout",
     "output_type": "stream",
     "text": [
      "\u001b[1m44/44\u001b[0m \u001b[32m━━━━━━━━━━━━━━━━━━━━\u001b[0m\u001b[37m\u001b[0m \u001b[1m3s\u001b[0m 6ms/step - accuracy: 0.4720 - loss: 1.2247\n",
      "Epoch 2/10\n",
      "\u001b[1m44/44\u001b[0m \u001b[32m━━━━━━━━━━━━━━━━━━━━\u001b[0m\u001b[37m\u001b[0m \u001b[1m0s\u001b[0m 5ms/step - accuracy: 0.6976 - loss: 0.7854\n",
      "Epoch 3/10\n",
      "\u001b[1m44/44\u001b[0m \u001b[32m━━━━━━━━━━━━━━━━━━━━\u001b[0m\u001b[37m\u001b[0m \u001b[1m0s\u001b[0m 5ms/step - accuracy: 0.7376 - loss: 0.6340\n",
      "Epoch 4/10\n",
      "\u001b[1m44/44\u001b[0m \u001b[32m━━━━━━━━━━━━━━━━━━━━\u001b[0m\u001b[37m\u001b[0m \u001b[1m0s\u001b[0m 6ms/step - accuracy: 0.7563 - loss: 0.5740\n",
      "Epoch 5/10\n",
      "\u001b[1m44/44\u001b[0m \u001b[32m━━━━━━━━━━━━━━━━━━━━\u001b[0m\u001b[37m\u001b[0m \u001b[1m0s\u001b[0m 7ms/step - accuracy: 0.7889 - loss: 0.5049\n",
      "Epoch 6/10\n",
      "\u001b[1m44/44\u001b[0m \u001b[32m━━━━━━━━━━━━━━━━━━━━\u001b[0m\u001b[37m\u001b[0m \u001b[1m1s\u001b[0m 11ms/step - accuracy: 0.7893 - loss: 0.4798\n",
      "Epoch 7/10\n",
      "\u001b[1m44/44\u001b[0m \u001b[32m━━━━━━━━━━━━━━━━━━━━\u001b[0m\u001b[37m\u001b[0m \u001b[1m1s\u001b[0m 11ms/step - accuracy: 0.8012 - loss: 0.4543\n",
      "Epoch 8/10\n",
      "\u001b[1m44/44\u001b[0m \u001b[32m━━━━━━━━━━━━━━━━━━━━\u001b[0m\u001b[37m\u001b[0m \u001b[1m0s\u001b[0m 7ms/step - accuracy: 0.8458 - loss: 0.3864\n",
      "Epoch 9/10\n",
      "\u001b[1m44/44\u001b[0m \u001b[32m━━━━━━━━━━━━━━━━━━━━\u001b[0m\u001b[37m\u001b[0m \u001b[1m1s\u001b[0m 11ms/step - accuracy: 0.8474 - loss: 0.3811\n",
      "Epoch 10/10\n",
      "\u001b[1m44/44\u001b[0m \u001b[32m━━━━━━━━━━━━━━━━━━━━\u001b[0m\u001b[37m\u001b[0m \u001b[1m1s\u001b[0m 12ms/step - accuracy: 0.8621 - loss: 0.3548\n",
      "\u001b[1m11/11\u001b[0m \u001b[32m━━━━━━━━━━━━━━━━━━━━\u001b[0m\u001b[37m\u001b[0m \u001b[1m0s\u001b[0m 14ms/step\n",
      "Accuracy: 0.88\n",
      "Recall: 0.88\n",
      "Precision: 0.8559859806411154\n",
      "F1 Score: 0.8666945315623645\n",
      "[[233   9   0   0]\n",
      " [ 12  62   0   1]\n",
      " [  0   5   0  13]\n",
      " [  0   0   0  11]]\n"
     ]
    },
    {
     "name": "stderr",
     "output_type": "stream",
     "text": [
      "c:\\Users\\elgho\\anaconda3\\Lib\\site-packages\\sklearn\\metrics\\_classification.py:1531: UndefinedMetricWarning: Precision is ill-defined and being set to 0.0 in labels with no predicted samples. Use `zero_division` parameter to control this behavior.\n",
      "  _warn_prf(average, modifier, f\"{metric.capitalize()} is\", len(result))\n"
     ]
    }
   ],
   "source": [
    "from tensorflow.keras.models import Sequential\n",
    "from tensorflow.keras.layers import Dense, Dropout\n",
    "# Using a simple Neural Network\n",
    "model = Sequential(\n",
    "    [\n",
    "        Dense(128, activation='relu', input_shape=(X_train.shape[1],)),\n",
    "        Dropout(0.5),\n",
    "        Dense(64, activation='relu'),\n",
    "        Dropout(0.5),\n",
    "        Dense(64, activation='relu'),\n",
    "        Dense(32, activation='relu'),\n",
    "        Dense(4, activation='softmax')  # 4 classes for output\n",
    "    ]\n",
    ")\n",
    "model.compile(optimizer='adam', loss='sparse_categorical_crossentropy', metrics=['accuracy'])\n",
    "model.fit(X_train, y_train, epochs=10, batch_size=32, verbose=1)\n",
    "y_pred = model.predict(X_test)\n",
    "y_pred_classes = y_pred.argmax(axis=1)\n",
    "acc = round(accuracy_score(y_test, y_pred_classes) , 2)\n",
    "recall = round(recall_score(y_test, y_pred_classes, average='weighted') , 2)\n",
    "print(f\"Accuracy: {acc}\")\n",
    "print(f\"Recall: {recall}\")\n",
    "print(f\"Precision: {precision_score(y_test, y_pred_classes, average='weighted') }\")\n",
    "print(f\"F1 Score: {f1_score(y_test, y_pred_classes, average='weighted') }\")\n",
    "\n",
    "cm = confusion_matrix(y_test, y_pred_classes)\n",
    "print(cm)\n",
    "\n"
   ]
  }
 ],
 "metadata": {
  "colab": {
   "authorship_tag": "ABX9TyMPmDjfj4eGxGsVX/+LCiXI",
   "provenance": []
  },
  "kernelspec": {
   "display_name": "base",
   "language": "python",
   "name": "python3"
  },
  "language_info": {
   "codemirror_mode": {
    "name": "ipython",
    "version": 3
   },
   "file_extension": ".py",
   "mimetype": "text/x-python",
   "name": "python",
   "nbconvert_exporter": "python",
   "pygments_lexer": "ipython3",
   "version": "3.12.7"
  }
 },
 "nbformat": 4,
 "nbformat_minor": 0
}
